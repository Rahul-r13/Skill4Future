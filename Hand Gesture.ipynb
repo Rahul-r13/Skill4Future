{
 "cells": [
  {
   "cell_type": "markdown",
   "id": "91c8ea14-d39d-4c31-82cc-98fe59660b04",
   "metadata": {},
   "source": [
    "# Hand Gesture For Screen Brightness Control"
   ]
  },
  {
   "cell_type": "code",
   "execution_count": 3,
   "id": "5e95193f-5805-4e4a-adab-03a58ae0e895",
   "metadata": {},
   "outputs": [
    {
     "name": "stdout",
     "output_type": "stream",
     "text": [
      "Requirement already satisfied: mediapipe in c:\\users\\google\\anaconda3\\lib\\site-packages (0.10.20)Note: you may need to restart the kernel to use updated packages.\n",
      "\n",
      "Requirement already satisfied: absl-py in c:\\users\\google\\appdata\\roaming\\python\\python312\\site-packages (from mediapipe) (2.1.0)\n",
      "Requirement already satisfied: attrs>=19.1.0 in c:\\users\\google\\appdata\\roaming\\python\\python312\\site-packages (from mediapipe) (24.3.0)\n",
      "Requirement already satisfied: flatbuffers>=2.0 in c:\\users\\google\\appdata\\roaming\\python\\python312\\site-packages (from mediapipe) (24.3.25)\n",
      "Requirement already satisfied: jax in c:\\users\\google\\anaconda3\\lib\\site-packages (from mediapipe) (0.4.37)\n",
      "Requirement already satisfied: jaxlib in c:\\users\\google\\anaconda3\\lib\\site-packages (from mediapipe) (0.4.36)\n",
      "Requirement already satisfied: matplotlib in c:\\users\\google\\appdata\\roaming\\python\\python312\\site-packages (from mediapipe) (3.9.2)\n",
      "Requirement already satisfied: numpy<2 in c:\\users\\google\\anaconda3\\lib\\site-packages (from mediapipe) (1.26.4)\n",
      "Requirement already satisfied: opencv-contrib-python in c:\\users\\google\\anaconda3\\lib\\site-packages (from mediapipe) (4.10.0.84)\n",
      "Requirement already satisfied: protobuf<5,>=4.25.3 in c:\\users\\google\\anaconda3\\lib\\site-packages (from mediapipe) (4.25.5)\n",
      "Requirement already satisfied: sounddevice>=0.4.4 in c:\\users\\google\\anaconda3\\lib\\site-packages (from mediapipe) (0.5.1)\n",
      "Requirement already satisfied: sentencepiece in c:\\users\\google\\anaconda3\\lib\\site-packages (from mediapipe) (0.2.0)\n",
      "Requirement already satisfied: CFFI>=1.0 in c:\\users\\google\\appdata\\roaming\\python\\python312\\site-packages (from sounddevice>=0.4.4->mediapipe) (1.17.1)\n",
      "Requirement already satisfied: ml_dtypes>=0.4.0 in c:\\users\\google\\appdata\\roaming\\python\\python312\\site-packages (from jax->mediapipe) (0.4.1)\n",
      "Requirement already satisfied: opt_einsum in c:\\users\\google\\appdata\\roaming\\python\\python312\\site-packages (from jax->mediapipe) (3.4.0)\n",
      "Requirement already satisfied: scipy>=1.10 in c:\\users\\google\\anaconda3\\lib\\site-packages (from jax->mediapipe) (1.13.1)\n",
      "Requirement already satisfied: contourpy>=1.0.1 in c:\\users\\google\\appdata\\roaming\\python\\python312\\site-packages (from matplotlib->mediapipe) (1.3.0)\n",
      "Requirement already satisfied: cycler>=0.10 in c:\\users\\google\\appdata\\roaming\\python\\python312\\site-packages (from matplotlib->mediapipe) (0.12.1)\n",
      "Requirement already satisfied: fonttools>=4.22.0 in c:\\users\\google\\appdata\\roaming\\python\\python312\\site-packages (from matplotlib->mediapipe) (4.54.1)\n",
      "Requirement already satisfied: kiwisolver>=1.3.1 in c:\\users\\google\\appdata\\roaming\\python\\python312\\site-packages (from matplotlib->mediapipe) (1.4.7)\n",
      "Requirement already satisfied: packaging>=20.0 in c:\\users\\google\\appdata\\roaming\\python\\python312\\site-packages (from matplotlib->mediapipe) (24.1)\n",
      "Requirement already satisfied: pillow>=8 in c:\\users\\google\\appdata\\roaming\\python\\python312\\site-packages (from matplotlib->mediapipe) (11.0.0)\n",
      "Requirement already satisfied: pyparsing>=2.3.1 in c:\\users\\google\\appdata\\roaming\\python\\python312\\site-packages (from matplotlib->mediapipe) (3.2.0)\n",
      "Requirement already satisfied: python-dateutil>=2.7 in c:\\users\\google\\appdata\\roaming\\python\\python312\\site-packages (from matplotlib->mediapipe) (2.9.0.post0)\n",
      "Requirement already satisfied: pycparser in c:\\users\\google\\appdata\\roaming\\python\\python312\\site-packages (from CFFI>=1.0->sounddevice>=0.4.4->mediapipe) (2.22)\n",
      "Requirement already satisfied: six>=1.5 in c:\\users\\google\\appdata\\roaming\\python\\python312\\site-packages (from python-dateutil>=2.7->matplotlib->mediapipe) (1.16.0)\n"
     ]
    }
   ],
   "source": [
    "pip install mediapipe "
   ]
  },
  {
   "cell_type": "code",
   "execution_count": 4,
   "id": "d9886fd8-794e-4e89-bca2-2ba519b52b77",
   "metadata": {},
   "outputs": [
    {
     "name": "stdout",
     "output_type": "stream",
     "text": [
      "Requirement already satisfied: mediapipe in c:\\users\\google\\anaconda3\\lib\\site-packages (0.10.20)\n",
      "Requirement already satisfied: absl-py in c:\\users\\google\\appdata\\roaming\\python\\python312\\site-packages (from mediapipe) (2.1.0)\n",
      "Requirement already satisfied: attrs>=19.1.0 in c:\\users\\google\\appdata\\roaming\\python\\python312\\site-packages (from mediapipe) (24.3.0)\n",
      "Requirement already satisfied: flatbuffers>=2.0 in c:\\users\\google\\appdata\\roaming\\python\\python312\\site-packages (from mediapipe) (24.3.25)\n",
      "Requirement already satisfied: jax in c:\\users\\google\\anaconda3\\lib\\site-packages (from mediapipe) (0.4.37)\n",
      "Requirement already satisfied: jaxlib in c:\\users\\google\\anaconda3\\lib\\site-packages (from mediapipe) (0.4.36)\n",
      "Requirement already satisfied: matplotlib in c:\\users\\google\\appdata\\roaming\\python\\python312\\site-packages (from mediapipe) (3.9.2)\n",
      "Requirement already satisfied: numpy<2 in c:\\users\\google\\anaconda3\\lib\\site-packages (from mediapipe) (1.26.4)\n",
      "Requirement already satisfied: opencv-contrib-python in c:\\users\\google\\anaconda3\\lib\\site-packages (from mediapipe) (4.10.0.84)\n",
      "Requirement already satisfied: protobuf<5,>=4.25.3 in c:\\users\\google\\anaconda3\\lib\\site-packages (from mediapipe) (4.25.5)\n",
      "Requirement already satisfied: sounddevice>=0.4.4 in c:\\users\\google\\anaconda3\\lib\\site-packages (from mediapipe) (0.5.1)\n",
      "Requirement already satisfied: sentencepiece in c:\\users\\google\\anaconda3\\lib\\site-packages (from mediapipe) (0.2.0)\n",
      "Requirement already satisfied: CFFI>=1.0 in c:\\users\\google\\appdata\\roaming\\python\\python312\\site-packages (from sounddevice>=0.4.4->mediapipe) (1.17.1)\n",
      "Requirement already satisfied: ml_dtypes>=0.4.0 in c:\\users\\google\\appdata\\roaming\\python\\python312\\site-packages (from jax->mediapipe) (0.4.1)\n",
      "Requirement already satisfied: opt_einsum in c:\\users\\google\\appdata\\roaming\\python\\python312\\site-packages (from jax->mediapipe) (3.4.0)\n",
      "Requirement already satisfied: scipy>=1.10 in c:\\users\\google\\anaconda3\\lib\\site-packages (from jax->mediapipe) (1.13.1)\n",
      "Requirement already satisfied: contourpy>=1.0.1 in c:\\users\\google\\appdata\\roaming\\python\\python312\\site-packages (from matplotlib->mediapipe) (1.3.0)\n",
      "Requirement already satisfied: cycler>=0.10 in c:\\users\\google\\appdata\\roaming\\python\\python312\\site-packages (from matplotlib->mediapipe) (0.12.1)\n",
      "Requirement already satisfied: fonttools>=4.22.0 in c:\\users\\google\\appdata\\roaming\\python\\python312\\site-packages (from matplotlib->mediapipe) (4.54.1)\n",
      "Requirement already satisfied: kiwisolver>=1.3.1 in c:\\users\\google\\appdata\\roaming\\python\\python312\\site-packages (from matplotlib->mediapipe) (1.4.7)\n",
      "Requirement already satisfied: packaging>=20.0 in c:\\users\\google\\appdata\\roaming\\python\\python312\\site-packages (from matplotlib->mediapipe) (24.1)\n",
      "Requirement already satisfied: pillow>=8 in c:\\users\\google\\appdata\\roaming\\python\\python312\\site-packages (from matplotlib->mediapipe) (11.0.0)\n",
      "Requirement already satisfied: pyparsing>=2.3.1 in c:\\users\\google\\appdata\\roaming\\python\\python312\\site-packages (from matplotlib->mediapipe) (3.2.0)\n",
      "Requirement already satisfied: python-dateutil>=2.7 in c:\\users\\google\\appdata\\roaming\\python\\python312\\site-packages (from matplotlib->mediapipe) (2.9.0.post0)\n",
      "Requirement already satisfied: pycparser in c:\\users\\google\\appdata\\roaming\\python\\python312\\site-packages (from CFFI>=1.0->sounddevice>=0.4.4->mediapipe) (2.22)\n",
      "Requirement already satisfied: six>=1.5 in c:\\users\\google\\appdata\\roaming\\python\\python312\\site-packages (from python-dateutil>=2.7->matplotlib->mediapipe) (1.16.0)\n",
      "Note: you may need to restart the kernel to use updated packages.\n"
     ]
    }
   ],
   "source": [
    "pip install mediapipe --user"
   ]
  },
  {
   "cell_type": "code",
   "execution_count": 5,
   "id": "a32ae526-5917-4666-945c-2366e1d9c13f",
   "metadata": {},
   "outputs": [
    {
     "name": "stdout",
     "output_type": "stream",
     "text": [
      "Requirement already satisfied: msvc-runtime in c:\\users\\google\\anaconda3\\lib\\site-packages (14.42.34433)\n",
      "Note: you may need to restart the kernel to use updated packages.\n"
     ]
    }
   ],
   "source": [
    "pip install msvc-runtime"
   ]
  },
  {
   "cell_type": "code",
   "execution_count": 6,
   "id": "2570df44-fdc5-45d7-b267-a06520430c91",
   "metadata": {},
   "outputs": [
    {
     "name": "stdout",
     "output_type": "stream",
     "text": [
      "Requirement already satisfied: screen-brightness-control in c:\\users\\google\\anaconda3\\lib\\site-packages (0.24.1)Note: you may need to restart the kernel to use updated packages.\n",
      "\n",
      "Requirement already satisfied: wmi in c:\\users\\google\\anaconda3\\lib\\site-packages (from screen-brightness-control) (1.5.1)\n",
      "Requirement already satisfied: pywin32 in c:\\users\\google\\appdata\\roaming\\python\\python312\\site-packages (from screen-brightness-control) (308)\n",
      "Requirement already satisfied: pypiwin32 in c:\\users\\google\\anaconda3\\lib\\site-packages (from screen-brightness-control) (223)\n"
     ]
    }
   ],
   "source": [
    "pip install screen-brightness-control"
   ]
  },
  {
   "cell_type": "code",
   "execution_count": 7,
   "id": "301be7d3-2527-4f81-9a76-e8bd57c1aefc",
   "metadata": {},
   "outputs": [],
   "source": [
    "#Importing libraries\n",
    "import cv2\n",
    "import mediapipe as mp\n",
    "from math import hypot\n",
    "import screen_brightness_control as sbc\n",
    "import numpy as np"
   ]
  },
  {
   "cell_type": "code",
   "execution_count": 9,
   "id": "e363f1db-3788-4d52-a33e-f2c5b2d734b1",
   "metadata": {},
   "outputs": [],
   "source": [
    "#Initializing the model\n",
    "mpHands=mp.solutions.hands\n",
    "hands=mpHands.Hands(\n",
    "    static_image_mode=False,\n",
    "    model_complexity=1,\n",
    "    min_detection_confidence=0.75,\n",
    "    min_tracking_confidence=0.75,\n",
    "    max_num_hands=2)\n",
    "Draw=mp.solutions.drawing_utils"
   ]
  },
  {
   "cell_type": "code",
   "execution_count": 10,
   "id": "0d4efab9-dac4-4ade-888f-37b4b6e8c2d7",
   "metadata": {},
   "outputs": [],
   "source": [
    "#Start capturing video from webcam\n",
    "cap = cv2.VideoCapture(0)\n",
    "\n",
    "while True:\n",
    "    #Read video frame by frame\n",
    "    _,frame = cap.read()\n",
    "    \n",
    "    #Flip image\n",
    "    frame=cv2.flip(frame,1)\n",
    "    \n",
    "    #Convert BGR image to RGB image\n",
    "    frameRGB = cv2.cvtColor(frame,cv2.COLOR_BGR2RGB)\n",
    "    \n",
    "    #Process the RGB image\n",
    "    Process = hands.process(frameRGB)\n",
    "    \n",
    "    landmarkList=[]\n",
    "    #if hands are present in image(frame)\n",
    "    if Process.multi_hand_landmarks:\n",
    "        #detect landmarks\n",
    "        for handlm in Process.multi_hand_landmarks:\n",
    "            for _id,landmarks in enumerate(handlm.landmark):\n",
    "                #store height and width of image\n",
    "                height,width,color_channel = frame.shape\n",
    "                \n",
    "                #calculate and append x,y coordinates\n",
    "                #of handmarks from image(frame) to lmlist\n",
    "                x,y = int(landmarks.x*width),int(landmarks.y*height)\n",
    "                landmarkList.append([_id,x,y])\n",
    "            #draw Landmarks\n",
    "            Draw.draw_landmarks(frame,handlm,mpHands.HAND_CONNECTIONS)\n",
    "    #IF landmarks list is not empty\n",
    "    if landmarkList !=[]:\n",
    "        #store x,y coordinates of(tip of) thumb\n",
    "        x_1,y_1=landmarkList[4][1],landmarkList[4][2]\n",
    "\n",
    "        #store x,y coordinates of(tip of) index finger\n",
    "        x_2,y_2=landmarkList[8][1],landmarkList[8][2]\n",
    "\n",
    "        #draw circle on thumb and index finger tip\n",
    "        cv2.circle(frame,(x_1,y_1),7,(0,255,0),cv2.FILLED)\n",
    "        cv2.circle(frame,(x_2,y_2),7,(0,255,0),cv2.FILLED)\n",
    "\n",
    "        #draw line from tip of thumb to tip of index finger\n",
    "        cv2.line(frame,(x_1,y_1),(x_2,y_2),(0,255,0),3)\n",
    "\n",
    "        #caluclate square root of the sum\n",
    "        #of squares of the specified arguments\n",
    "        L= hypot(x_2-x_1,y_2-y_1)\n",
    "\n",
    "        #1-D linear interpolant to a function\n",
    "        #with given discrete to a function\n",
    "        #(Hand range 15 - 220, Brightness range 0-100),\n",
    "        b_level = np.interp(L,[15,220],[0,100])\n",
    "\n",
    "        #set brightness\n",
    "        sbc.set_brightness(int(b_level))\n",
    "\n",
    "    #display video and when 'q' is entered,\n",
    "    #destroy the window\n",
    "    cv2.imshow('Image',frame)\n",
    "    if cv2.waitKey(1) & 0xff == ord('q'):\n",
    "        break\n",
    "cap.release()\n",
    "cv2.destroyAllWindows()"
   ]
  },
  {
   "cell_type": "markdown",
   "id": "5b28c66a-5088-4be7-a65d-eb33ea3b9917",
   "metadata": {},
   "source": [
    "coded by Rahul R"
   ]
  },
  {
   "cell_type": "code",
   "execution_count": null,
   "id": "bb08bc0b-16f8-40f7-843a-9bed3e3f3fd6",
   "metadata": {},
   "outputs": [],
   "source": []
  }
 ],
 "metadata": {
  "kernelspec": {
   "display_name": "Python 3 (ipykernel)",
   "language": "python",
   "name": "python3"
  },
  "language_info": {
   "codemirror_mode": {
    "name": "ipython",
    "version": 3
   },
   "file_extension": ".py",
   "mimetype": "text/x-python",
   "name": "python",
   "nbconvert_exporter": "python",
   "pygments_lexer": "ipython3",
   "version": "3.12.4"
  }
 },
 "nbformat": 4,
 "nbformat_minor": 5
}
